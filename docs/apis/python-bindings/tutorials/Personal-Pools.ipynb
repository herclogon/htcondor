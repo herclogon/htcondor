{
 "cells": [
  {
   "cell_type": "markdown",
   "metadata": {},
   "source": [
    "# Personal Pools\n",
    "\n",
    "Launch this tutorial in a Jupyter Notebook on Binder: \n",
    "[![Binder](https://mybinder.org/badge_logo.svg)](https://mybinder.org/v2/gh/htcondor/htcondor-python-bindings-tutorials/master?urlpath=lab/tree/Personal-Pools.ipynb)"
   ]
  },
  {
   "cell_type": "markdown",
   "metadata": {},
   "source": [
    "A Personal HTCondor Pool is an HTCondor Pool that has a single owner, who is:\n",
    "- The pool’s administrator.\n",
    "- The only submitter who is allowed to submit jobs to the pool.\n",
    "- The owner of all resources managed by the pool.\n",
    "\n",
    "The HTCondor Python bindings provide a submodule, `htcondor.personal`, which allows you to manage personal pools from Python.\n",
    "Personal pools are useful for:\n",
    "- Utilizing local computational resources (i.e., all of the cores on a lab server).\n",
    "- Created an isolated testing/development environment for HTCondor workflows.\n",
    "- Serving as an entrypoint to other computational resources, like annexes or flocked pools (not yet implemented)."
   ]
  },
  {
   "cell_type": "markdown",
   "metadata": {},
   "source": [
    "We can start a personal pool by instantiating a `PersonalPool`.\n",
    "This object represents the personal pool and lets us manage its \"lifecycle\": start up and shut down.\n",
    "We can also use the `PersonalPool` to interact with the HTCondor pool once it has been started up.\n",
    "\n",
    "Each Personal Pool must have a unique \"local directory\", corresponding to the HTCondor configuration parameter `LOCAL_DIR`. For this tutorial, we'll put it in the current working directory so that it's easy to find.\n",
    "\n",
    "> Advanced users can configure the personal pool using the `PersonalPool` constructor. See the documentation for details on the available options."
   ]
  },
  {
   "cell_type": "code",
   "execution_count": 1,
   "metadata": {
    "execution": {
     "iopub.execute_input": "2020-11-24T14:48:28.435615Z",
     "iopub.status.busy": "2020-11-24T14:48:28.434352Z",
     "iopub.status.idle": "2020-11-24T14:48:28.504237Z",
     "shell.execute_reply": "2020-11-24T14:48:28.502752Z"
    }
   },
   "outputs": [],
   "source": [
    "import htcondor\n",
    "from htcondor.personal import PersonalPool\n",
    "from pathlib import Path"
   ]
  },
  {
   "cell_type": "code",
   "execution_count": 2,
   "metadata": {
    "execution": {
     "iopub.execute_input": "2020-11-24T14:48:28.511136Z",
     "iopub.status.busy": "2020-11-24T14:48:28.509869Z",
     "iopub.status.idle": "2020-11-24T14:48:28.527441Z",
     "shell.execute_reply": "2020-11-24T14:48:28.528707Z"
    }
   },
   "outputs": [
    {
     "data": {
      "text/plain": [
       "PersonalPool(local_dir=./personal-condor, state=INITIALIZED)"
      ]
     },
     "execution_count": 1,
     "metadata": {},
     "output_type": "execute_result"
    }
   ],
   "source": [
    "pool = PersonalPool(local_dir = Path.cwd() / \"personal-condor\")\n",
    "pool"
   ]
  },
  {
   "cell_type": "markdown",
   "metadata": {},
   "source": [
    "To tell the personal pool to start running, call the `start()` method:"
   ]
  },
  {
   "cell_type": "code",
   "execution_count": 3,
   "metadata": {
    "execution": {
     "iopub.execute_input": "2020-11-24T14:48:28.538349Z",
     "iopub.status.busy": "2020-11-24T14:48:28.535626Z",
     "iopub.status.idle": "2020-11-24T14:48:41.117507Z",
     "shell.execute_reply": "2020-11-24T14:48:41.118798Z"
    }
   },
   "outputs": [
    {
     "data": {
      "text/plain": [
       "PersonalPool(local_dir=./personal-condor, state=READY)"
      ]
     },
     "execution_count": 1,
     "metadata": {},
     "output_type": "execute_result"
    }
   ],
   "source": [
    "pool.start()"
   ]
  },
  {
   "cell_type": "markdown",
   "metadata": {},
   "source": [
    "`start()` doesn't return until the personal pool is `READY`, which means that it can accept commands (e.g., job submission)."
   ]
  },
  {
   "cell_type": "markdown",
   "metadata": {},
   "source": [
    "`Schedd` and `Collector` objects for the personal pool are available as properties on the `PersonalPool`:"
   ]
  },
  {
   "cell_type": "code",
   "execution_count": 4,
   "metadata": {
    "execution": {
     "iopub.execute_input": "2020-11-24T14:48:41.133328Z",
     "iopub.status.busy": "2020-11-24T14:48:41.132068Z",
     "iopub.status.idle": "2020-11-24T14:48:41.136189Z",
     "shell.execute_reply": "2020-11-24T14:48:41.137398Z"
    }
   },
   "outputs": [
    {
     "data": {
      "text/plain": [
       "<htcondor.htcondor.Schedd at 0x7f130c5bf8b0>"
      ]
     },
     "execution_count": 1,
     "metadata": {},
     "output_type": "execute_result"
    }
   ],
   "source": [
    "pool.schedd"
   ]
  },
  {
   "cell_type": "code",
   "execution_count": 5,
   "metadata": {
    "execution": {
     "iopub.execute_input": "2020-11-24T14:48:41.148239Z",
     "iopub.status.busy": "2020-11-24T14:48:41.147104Z",
     "iopub.status.idle": "2020-11-24T14:48:41.150853Z",
     "shell.execute_reply": "2020-11-24T14:48:41.151960Z"
    }
   },
   "outputs": [
    {
     "data": {
      "text/plain": [
       "<htcondor.htcondor.Collector at 0x7f1308ca72f0>"
      ]
     },
     "execution_count": 1,
     "metadata": {},
     "output_type": "execute_result"
    }
   ],
   "source": [
    "pool.collector"
   ]
  },
  {
   "cell_type": "markdown",
   "metadata": {},
   "source": [
    "For example, we can submit jobs using `pool.schedd`:"
   ]
  },
  {
   "cell_type": "code",
   "execution_count": 6,
   "metadata": {
    "execution": {
     "iopub.execute_input": "2020-11-24T14:48:41.177801Z",
     "iopub.status.busy": "2020-11-24T14:48:41.176592Z",
     "iopub.status.idle": "2020-11-24T14:48:41.180659Z",
     "shell.execute_reply": "2020-11-24T14:48:41.181804Z"
    }
   },
   "outputs": [
    {
     "name": "stdout",
     "output_type": "stream",
     "text": [
      "ClusterID is 1\n"
     ]
    }
   ],
   "source": [
    "sub = htcondor.Submit(\n",
    "    executable = \"/bin/sleep\",\n",
    "    arguments = \"$(ProcID)s\",\n",
    ")\n",
    "\n",
    "schedd = pool.schedd\n",
    "with schedd.transaction() as txn:\n",
    "    cluster_id = sub.queue(txn, 10)\n",
    "\n",
    "print(f\"ClusterID is {cluster_id}\")"
   ]
  },
  {
   "cell_type": "markdown",
   "metadata": {},
   "source": [
    "And we can query for the state of those jobs:"
   ]
  },
  {
   "cell_type": "code",
   "execution_count": 7,
   "metadata": {
    "execution": {
     "iopub.execute_input": "2020-11-24T14:48:41.193548Z",
     "iopub.status.busy": "2020-11-24T14:48:41.192347Z",
     "iopub.status.idle": "2020-11-24T14:48:41.196173Z",
     "shell.execute_reply": "2020-11-24T14:48:41.197295Z"
    }
   },
   "outputs": [
    {
     "name": "stdout",
     "output_type": "stream",
     "text": [
      "[ ClusterID = 1; ProcID = 0; JobStatus = 1; ServerTime = 1606229321 ]\n",
      "[ ClusterID = 1; ProcID = 1; JobStatus = 1; ServerTime = 1606229321 ]\n",
      "[ ClusterID = 1; ProcID = 2; JobStatus = 1; ServerTime = 1606229321 ]\n",
      "[ ClusterID = 1; ProcID = 3; JobStatus = 1; ServerTime = 1606229321 ]\n",
      "[ ClusterID = 1; ProcID = 4; JobStatus = 1; ServerTime = 1606229321 ]\n",
      "[ ClusterID = 1; ProcID = 5; JobStatus = 1; ServerTime = 1606229321 ]\n",
      "[ ClusterID = 1; ProcID = 6; JobStatus = 1; ServerTime = 1606229321 ]\n",
      "[ ClusterID = 1; ProcID = 7; JobStatus = 1; ServerTime = 1606229321 ]\n",
      "[ ClusterID = 1; ProcID = 8; JobStatus = 1; ServerTime = 1606229321 ]\n",
      "[ ClusterID = 1; ProcID = 9; JobStatus = 1; ServerTime = 1606229321 ]\n"
     ]
    }
   ],
   "source": [
    "for ad in pool.schedd.query(\n",
    "    constraint = f\"ClusterID == {cluster_id}\", \n",
    "    projection = [\"ClusterID\", \"ProcID\", \"JobStatus\"]\n",
    "):\n",
    "    print(repr(ad))"
   ]
  },
  {
   "cell_type": "markdown",
   "metadata": {},
   "source": [
    "We can use the collector to query the state of pool:"
   ]
  },
  {
   "cell_type": "code",
   "execution_count": 8,
   "metadata": {
    "execution": {
     "iopub.execute_input": "2020-11-24T14:48:41.213122Z",
     "iopub.status.busy": "2020-11-24T14:48:41.212026Z",
     "iopub.status.idle": "2020-11-24T14:48:41.215814Z",
     "shell.execute_reply": "2020-11-24T14:48:41.216896Z"
    }
   },
   "outputs": [
    {
     "name": "stdout",
     "output_type": "stream",
     "text": [
      "\n",
      "    [\n",
      "        AuthenticatedIdentity = \"condor@family\"; \n",
      "        EffectiveQuota = 0.0; \n",
      "        GroupSortKey = 0.0; \n",
      "        ResourcesUsed = 1; \n",
      "        PriorityFactor = 1.000000000000000E+03; \n",
      "        NegotiatorName = \"jovyan@4726328b203e\"; \n",
      "        Name = \"<none>\"; \n",
      "        AccumulatedUsage = 0.0; \n",
      "        ConfigQuota = 0.0; \n",
      "        LastHeardFrom = 1606229321; \n",
      "        SubtreeQuota = 0.0; \n",
      "        DaemonStartTime = 1606229311; \n",
      "        LastUsageTime = 0; \n",
      "        SurplusPolicy = \"byquota\"; \n",
      "        TargetType = \"none\"; \n",
      "        AuthenticationMethod = \"FAMILY\"; \n",
      "        LastUpdate = 1606229321; \n",
      "        WeightedAccumulatedUsage = 0.0; \n",
      "        Priority = 5.000000000000000E+02; \n",
      "        MyType = \"Accounting\"; \n",
      "        IsAccountingGroup = true; \n",
      "        BeginUsageTime = 0; \n",
      "        AccountingGroup = \"<none>\"; \n",
      "        UpdateSequenceNumber = 6; \n",
      "        DaemonLastReconfigTime = 1606229311; \n",
      "        WeightedResourcesUsed = 3.200000000000000E+01; \n",
      "        Requested = 0.0\n",
      "    ]\n",
      "\n",
      "    [\n",
      "        UpdateSequenceNumber = 1; \n",
      "        TargetType = \"none\"; \n",
      "        AuthenticationMethod = \"FAMILY\"; \n",
      "        Name = \"jovyan@4726328b203e\"; \n",
      "        AccountingGroup = \"<none>\"; \n",
      "        WeightedUnchargedTime = 0.0; \n",
      "        DaemonStartTime = 1606229311; \n",
      "        WeightedResourcesUsed = 3.200000000000000E+01; \n",
      "        LastHeardFrom = 1606229321; \n",
      "        Priority = 5.000000000000000E+02; \n",
      "        LastUpdate = 1606229321; \n",
      "        SubmitterLimit = 3.200000000000000E+01; \n",
      "        MyType = \"Accounting\"; \n",
      "        PriorityFactor = 1.000000000000000E+03; \n",
      "        IsAccountingGroup = false; \n",
      "        Ceiling = -1; \n",
      "        ResourcesUsed = 1; \n",
      "        DaemonLastReconfigTime = 1606229311; \n",
      "        AuthenticatedIdentity = \"condor@family\"; \n",
      "        NegotiatorName = \"jovyan@4726328b203e\"; \n",
      "        UnchargedTime = 0; \n",
      "        SubmitterShare = 1.000000000000000E+00\n",
      "    ]\n",
      "\n",
      "    [\n",
      "        UpdatesLost_Collector = 0; \n",
      "        MaxJobsRunningMPI = 0; \n",
      "        UpdatesInitial_Collector = 1; \n",
      "        UpdatesTotal_Collector = 1; \n",
      "        RecentUpdatesTotal_Collector = 1; \n",
      "        ActiveQueryWorkersPeak = 1; \n",
      "        PendingQueriesPeak = 0; \n",
      "        MonitorSelfAge = 1; \n",
      "        MyType = \"Collector\"; \n",
      "        CondorVersion = \"$CondorVersion: 8.9.9 Oct 25 2020 BuildID: Debian-8.9.9-1.2 PackageID: 8.9.9-1.2 Debian-8.9.9-1.2 $\"; \n",
      "        ActiveQueryWorkers = 1; \n",
      "        MaxJobsRunningPVMD = 0; \n",
      "        PendingQueries = 0; \n",
      "        RecentUpdatesLostMax = 0; \n",
      "        RecentForkQueriesFromCOLLECTOR = 1; \n",
      "        UpdateInterval = 21600; \n",
      "        DetectedMemory = 507368; \n",
      "        RecentUpdatesTotal = 1; \n",
      "        CurrentJobsRunningVanilla = 0; \n",
      "        CurrentJobsRunningMPI = 0; \n",
      "        UpdatesLost = 0; \n",
      "        MachineAdsPeak = 0; \n",
      "        DetectedCpus = 32; \n",
      "        CurrentJobsRunningVM = 0; \n",
      "        UpdatesLostMax = 0; \n",
      "        StatsLastUpdateTime = 1606229311; \n",
      "        CurrentJobsRunningLinda = 0; \n",
      "        StatsLifetime = 0; \n",
      "        ForkQueriesFromCOLLECTOR = 1; \n",
      "        MonitorSelfTime = 1606229310; \n",
      "        MaxJobsRunningAll = 0; \n",
      "        CondorPlatform = \"$CondorPlatform: X86_64-Ubuntu_20.04 $\"; \n",
      "        RecentStatsLifetime = 0; \n",
      "        MaxJobsRunningVM = 0; \n",
      "        MaxJobsRunningJava = 0; \n",
      "        MachineAds = 0; \n",
      "        UpdatesInitial = 1; \n",
      "        UpdatesTotal = 1; \n",
      "        MaxJobsRunningGrid = 0; \n",
      "        MaxJobsRunningPVM = 0; \n",
      "        MaxJobsRunningStandard = 0; \n",
      "        RecentUpdatesLost_Collector = 0; \n",
      "        MaxJobsRunningUnknown = 0; \n",
      "        AddressV1 = \"{[ p=\\\"primary\\\"; a=\\\"172.17.0.2\\\"; port=37880; n=\\\"Internet\\\"; alias=\\\"4726328b203e\\\"; spid=\\\"collector\\\"; noUDP=true; ], [ p=\\\"IPv4\\\"; a=\\\"172.17.0.2\\\"; port=37880; n=\\\"Internet\\\"; alias=\\\"4726328b203e\\\"; spid=\\\"collector\\\"; noUDP=true; ]}\"; \n",
      "        CurrentJobsRunningPipe = 0; \n",
      "        MonitorSelfRegisteredSocketCount = 2; \n",
      "        MonitorSelfImageSize = 16116; \n",
      "        CurrentJobsRunningStandard = 0; \n",
      "        CurrentJobsRunningScheduler = 0; \n",
      "        Name = \"My Pool - 127.0.0.1@4726328b203e\"; \n",
      "        CurrentJobsRunningAll = 0; \n",
      "        SubmitterAdsPeak = 0; \n",
      "        RecentUpdatesInitial = 1; \n",
      "        HostsTotal = 0; \n",
      "        CurrentJobsRunningLocal = 0; \n",
      "        UpdatesLostRatio = 0.0; \n",
      "        MonitorSelfSecuritySessions = 2; \n",
      "        CollectorIpAddr = \"<172.17.0.2:37880?addrs=172.17.0.2-37880&alias=4726328b203e&noUDP&sock=collector>\"; \n",
      "        HostsClaimed = 0; \n",
      "        MyCurrentTime = 1606229310; \n",
      "        MaxJobsRunningParallel = 0; \n",
      "        MaxJobsRunningScheduler = 0; \n",
      "        RunningJobs = 0; \n",
      "        CurrentJobsRunningGrid = 0; \n",
      "        MaxJobsRunningPipe = 0; \n",
      "        MyAddress = \"<172.17.0.2:37880?addrs=172.17.0.2-37880&alias=4726328b203e&noUDP&sock=collector>\"; \n",
      "        Machine = \"4726328b203e\"; \n",
      "        MaxJobsRunningVanilla = 0; \n",
      "        RecentUpdatesLost = 0; \n",
      "        MaxJobsRunningLocal = 0; \n",
      "        RecentUpdatesLostRatio = 0.0; \n",
      "        IdleJobs = 0; \n",
      "        CurrentJobsRunningPVMD = 0; \n",
      "        DaemonCoreDutyCycle = 3.399809967200684E-03; \n",
      "        DroppedQueries = 0; \n",
      "        LastHeardFrom = 1606229311; \n",
      "        SubmitterAds = 0; \n",
      "        TargetType = \"\"; \n",
      "        MonitorSelfResidentSetSize = 6188; \n",
      "        RecentUpdatesInitial_Collector = 1; \n",
      "        CurrentJobsRunningParallel = 0; \n",
      "        RecentDaemonCoreDutyCycle = 3.399809967200684E-03; \n",
      "        CurrentJobsRunningJava = 0; \n",
      "        MonitorSelfCPUUsage = 6.500000000000000E+01; \n",
      "        HostsOwner = 0; \n",
      "        MaxJobsRunningLinda = 0; \n",
      "        CondorAdmin = \"root@4726328b203e\"; \n",
      "        CurrentJobsRunningPVM = 0; \n",
      "        HostsUnclaimed = 0; \n",
      "        CurrentJobsRunningUnknown = 0; \n",
      "        RecentDroppedQueries = 0\n",
      "    ]\n"
     ]
    }
   ],
   "source": [
    "# get 3 random ads from the daemons in the pool\n",
    "for ad in pool.collector.query()[:3]:\n",
    "    print(ad)"
   ]
  },
  {
   "cell_type": "markdown",
   "metadata": {},
   "source": [
    "When you're done using the personal pool, you can `stop()` it:"
   ]
  },
  {
   "cell_type": "code",
   "execution_count": 9,
   "metadata": {
    "execution": {
     "iopub.execute_input": "2020-11-24T14:48:41.223402Z",
     "iopub.status.busy": "2020-11-24T14:48:41.222356Z",
     "iopub.status.idle": "2020-11-24T14:48:45.257642Z",
     "shell.execute_reply": "2020-11-24T14:48:45.256195Z"
    }
   },
   "outputs": [
    {
     "data": {
      "text/plain": [
       "PersonalPool(local_dir=./personal-condor, state=STOPPED)"
      ]
     },
     "execution_count": 1,
     "metadata": {},
     "output_type": "execute_result"
    }
   ],
   "source": [
    "pool.stop()"
   ]
  },
  {
   "cell_type": "markdown",
   "metadata": {},
   "source": [
    "`stop()`, like `start()` will not return until the personal pool has actually stopped running.\n",
    "The personal pool will also automatically be stopped if the `PersonalPool` object is garbage-collected, or when the Python interpreter stops running.\n",
    "\n",
    "> To prevent the pool from being automatically stopped in these situations, call the `detach()` method. The corresponding `attach()` method can be used to \"re-connect\" to a detached personal pool."
   ]
  },
  {
   "cell_type": "markdown",
   "metadata": {},
   "source": [
    "When working with a personal pool in a script, you may want to use it as a context manager. This pool will automatically start and stop at the beginning and end of the context:"
   ]
  },
  {
   "cell_type": "code",
   "execution_count": 10,
   "metadata": {
    "execution": {
     "iopub.execute_input": "2020-11-24T14:48:45.266880Z",
     "iopub.status.busy": "2020-11-24T14:48:45.265586Z",
     "iopub.status.idle": "2020-11-24T14:48:58.848224Z",
     "shell.execute_reply": "2020-11-24T14:48:58.849313Z"
    }
   },
   "outputs": [
    {
     "name": "stdout",
     "output_type": "stream",
     "text": [
      "/home/jovyan/tutorials/another-personal-condor\n"
     ]
    }
   ],
   "source": [
    "with PersonalPool(local_dir = Path.cwd() / \"another-personal-condor\") as pool:  # note: no need to call start()\n",
    "    print(pool.get_config_val(\"LOCAL_DIR\"))"
   ]
  },
  {
   "cell_type": "code",
   "execution_count": null,
   "metadata": {},
   "outputs": [],
   "source": []
  }
 ],
 "metadata": {
  "kernelspec": {
   "display_name": "Python 3",
   "language": "python",
   "name": "python3"
  },
  "language_info": {
   "codemirror_mode": {
    "name": "ipython",
    "version": 3
   },
   "file_extension": ".py",
   "mimetype": "text/x-python",
   "name": "python",
   "nbconvert_exporter": "python",
   "pygments_lexer": "ipython3",
   "version": "3.8.6"
  }
 },
 "nbformat": 4,
 "nbformat_minor": 4
}
